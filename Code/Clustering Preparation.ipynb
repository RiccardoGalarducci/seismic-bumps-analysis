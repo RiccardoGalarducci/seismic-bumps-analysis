{
 "cells": [
  {
   "cell_type": "markdown",
   "id": "af1e868e",
   "metadata": {},
   "source": [
    "# TASK 2.0 - CLUSTERING PREPARATION"
   ]
  },
  {
   "cell_type": "code",
   "execution_count": 3,
   "id": "26be66a4",
   "metadata": {},
   "outputs": [],
   "source": [
    "%matplotlib inline\n",
    "\n",
    "import numpy as np\n",
    "import pandas as pd\n",
    "import matplotlib.pyplot as plt\n",
    "import seaborn as sns"
   ]
  },
  {
   "cell_type": "code",
   "execution_count": 4,
   "id": "fc6212d1",
   "metadata": {},
   "outputs": [],
   "source": [
    "#scaling, normalization\n",
    "from sklearn.preprocessing import StandardScaler, MinMaxScaler, RobustScaler\n",
    "\n",
    "#kmeans, dbscan, hierarchical (sklearn)\n",
    "from sklearn.cluster import KMeans, DBSCAN, AgglomerativeClustering\n",
    "\n",
    "#evaluation\n",
    "from sklearn.metrics import silhouette_score\n",
    "\n",
    "#distance matrix (dbscan elbow, hierarchical)\n",
    "from scipy.spatial.distance import pdist, squareform\n",
    "\n",
    "# hierarchical (scipy)\n",
    "from scipy.cluster.hierarchy import linkage, dendrogram"
   ]
  },
  {
   "cell_type": "markdown",
   "id": "215e5bdb",
   "metadata": {},
   "source": [
    "#### Loading the dataset\n",
    "\n",
    "Read the .csv file containing the data. The first line contains the list of attributes. The data is assigned to a Pandas dataframe."
   ]
  },
  {
   "cell_type": "code",
   "execution_count": 5,
   "id": "1aabc996",
   "metadata": {},
   "outputs": [],
   "source": [
    "df = pd.read_csv(r\"seismic_new.csv\", skipinitialspace=True)"
   ]
  },
  {
   "cell_type": "code",
   "execution_count": 6,
   "id": "1fb42370",
   "metadata": {
    "scrolled": false
   },
   "outputs": [
    {
     "data": {
      "text/html": [
       "<div>\n",
       "<style scoped>\n",
       "    .dataframe tbody tr th:only-of-type {\n",
       "        vertical-align: middle;\n",
       "    }\n",
       "\n",
       "    .dataframe tbody tr th {\n",
       "        vertical-align: top;\n",
       "    }\n",
       "\n",
       "    .dataframe thead th {\n",
       "        text-align: right;\n",
       "    }\n",
       "</style>\n",
       "<table border=\"1\" class=\"dataframe\">\n",
       "  <thead>\n",
       "    <tr style=\"text-align: right;\">\n",
       "      <th></th>\n",
       "      <th>seismic</th>\n",
       "      <th>seismoacoustic</th>\n",
       "      <th>shift</th>\n",
       "      <th>genergy</th>\n",
       "      <th>gpuls</th>\n",
       "      <th>gdenergy</th>\n",
       "      <th>gdpuls</th>\n",
       "      <th>hazard</th>\n",
       "      <th>nbumps</th>\n",
       "      <th>nbumps2</th>\n",
       "      <th>nbumps3</th>\n",
       "      <th>nbumps4</th>\n",
       "      <th>nbumps5</th>\n",
       "      <th>energy</th>\n",
       "      <th>class</th>\n",
       "      <th>log_genergy</th>\n",
       "      <th>log_gpuls</th>\n",
       "      <th>log_gdenergy</th>\n",
       "      <th>log_gdpuls</th>\n",
       "      <th>log_energy</th>\n",
       "    </tr>\n",
       "  </thead>\n",
       "  <tbody>\n",
       "    <tr>\n",
       "      <th>0</th>\n",
       "      <td>0.0</td>\n",
       "      <td>0.0</td>\n",
       "      <td>0</td>\n",
       "      <td>15180</td>\n",
       "      <td>48</td>\n",
       "      <td>-72</td>\n",
       "      <td>-72</td>\n",
       "      <td>0.0</td>\n",
       "      <td>0</td>\n",
       "      <td>0</td>\n",
       "      <td>0</td>\n",
       "      <td>0</td>\n",
       "      <td>0</td>\n",
       "      <td>0</td>\n",
       "      <td>0</td>\n",
       "      <td>9.627734</td>\n",
       "      <td>3.871201</td>\n",
       "      <td>3.218876</td>\n",
       "      <td>3.218876</td>\n",
       "      <td>0.000000</td>\n",
       "    </tr>\n",
       "    <tr>\n",
       "      <th>1</th>\n",
       "      <td>0.0</td>\n",
       "      <td>0.0</td>\n",
       "      <td>0</td>\n",
       "      <td>14720</td>\n",
       "      <td>33</td>\n",
       "      <td>-70</td>\n",
       "      <td>-79</td>\n",
       "      <td>0.0</td>\n",
       "      <td>1</td>\n",
       "      <td>0</td>\n",
       "      <td>1</td>\n",
       "      <td>0</td>\n",
       "      <td>0</td>\n",
       "      <td>2000</td>\n",
       "      <td>0</td>\n",
       "      <td>9.596962</td>\n",
       "      <td>3.496508</td>\n",
       "      <td>3.295837</td>\n",
       "      <td>2.890372</td>\n",
       "      <td>7.601402</td>\n",
       "    </tr>\n",
       "    <tr>\n",
       "      <th>2</th>\n",
       "      <td>0.0</td>\n",
       "      <td>0.0</td>\n",
       "      <td>0</td>\n",
       "      <td>8050</td>\n",
       "      <td>30</td>\n",
       "      <td>-81</td>\n",
       "      <td>-78</td>\n",
       "      <td>0.0</td>\n",
       "      <td>0</td>\n",
       "      <td>0</td>\n",
       "      <td>0</td>\n",
       "      <td>0</td>\n",
       "      <td>0</td>\n",
       "      <td>0</td>\n",
       "      <td>0</td>\n",
       "      <td>8.993427</td>\n",
       "      <td>3.401197</td>\n",
       "      <td>2.772589</td>\n",
       "      <td>2.944439</td>\n",
       "      <td>0.000000</td>\n",
       "    </tr>\n",
       "    <tr>\n",
       "      <th>3</th>\n",
       "      <td>0.0</td>\n",
       "      <td>0.0</td>\n",
       "      <td>0</td>\n",
       "      <td>28820</td>\n",
       "      <td>171</td>\n",
       "      <td>-23</td>\n",
       "      <td>40</td>\n",
       "      <td>0.0</td>\n",
       "      <td>1</td>\n",
       "      <td>0</td>\n",
       "      <td>1</td>\n",
       "      <td>0</td>\n",
       "      <td>0</td>\n",
       "      <td>3000</td>\n",
       "      <td>0</td>\n",
       "      <td>10.268825</td>\n",
       "      <td>5.141664</td>\n",
       "      <td>4.304065</td>\n",
       "      <td>4.919981</td>\n",
       "      <td>8.006701</td>\n",
       "    </tr>\n",
       "    <tr>\n",
       "      <th>4</th>\n",
       "      <td>0.0</td>\n",
       "      <td>0.0</td>\n",
       "      <td>0</td>\n",
       "      <td>12640</td>\n",
       "      <td>57</td>\n",
       "      <td>-63</td>\n",
       "      <td>-52</td>\n",
       "      <td>0.0</td>\n",
       "      <td>0</td>\n",
       "      <td>0</td>\n",
       "      <td>0</td>\n",
       "      <td>0</td>\n",
       "      <td>0</td>\n",
       "      <td>0</td>\n",
       "      <td>0</td>\n",
       "      <td>9.444622</td>\n",
       "      <td>4.043051</td>\n",
       "      <td>3.526361</td>\n",
       "      <td>3.806662</td>\n",
       "      <td>0.000000</td>\n",
       "    </tr>\n",
       "  </tbody>\n",
       "</table>\n",
       "</div>"
      ],
      "text/plain": [
       "   seismic  seismoacoustic  shift  genergy  gpuls  gdenergy  gdpuls  hazard  \\\n",
       "0      0.0             0.0      0    15180     48       -72     -72     0.0   \n",
       "1      0.0             0.0      0    14720     33       -70     -79     0.0   \n",
       "2      0.0             0.0      0     8050     30       -81     -78     0.0   \n",
       "3      0.0             0.0      0    28820    171       -23      40     0.0   \n",
       "4      0.0             0.0      0    12640     57       -63     -52     0.0   \n",
       "\n",
       "   nbumps  nbumps2  nbumps3  nbumps4  nbumps5  energy  class  log_genergy  \\\n",
       "0       0        0        0        0        0       0      0     9.627734   \n",
       "1       1        0        1        0        0    2000      0     9.596962   \n",
       "2       0        0        0        0        0       0      0     8.993427   \n",
       "3       1        0        1        0        0    3000      0    10.268825   \n",
       "4       0        0        0        0        0       0      0     9.444622   \n",
       "\n",
       "   log_gpuls  log_gdenergy  log_gdpuls  log_energy  \n",
       "0   3.871201      3.218876    3.218876    0.000000  \n",
       "1   3.496508      3.295837    2.890372    7.601402  \n",
       "2   3.401197      2.772589    2.944439    0.000000  \n",
       "3   5.141664      4.304065    4.919981    8.006701  \n",
       "4   4.043051      3.526361    3.806662    0.000000  "
      ]
     },
     "execution_count": 6,
     "metadata": {},
     "output_type": "execute_result"
    }
   ],
   "source": [
    "df.head()"
   ]
  },
  {
   "cell_type": "code",
   "execution_count": 7,
   "id": "281ae739",
   "metadata": {
    "scrolled": true
   },
   "outputs": [
    {
     "data": {
      "text/plain": [
       "(2578, 20)"
      ]
     },
     "execution_count": 7,
     "metadata": {},
     "output_type": "execute_result"
    }
   ],
   "source": [
    "df.shape"
   ]
  },
  {
   "cell_type": "code",
   "execution_count": 8,
   "id": "19844ab2",
   "metadata": {},
   "outputs": [],
   "source": [
    "sns.set_theme(style=\"darkgrid\")"
   ]
  },
  {
   "cell_type": "markdown",
   "id": "a62a58f2",
   "metadata": {},
   "source": [
    "## RobustScaler"
   ]
  },
  {
   "cell_type": "markdown",
   "id": "cbc0e5be",
   "metadata": {},
   "source": [
    "### GEnergy"
   ]
  },
  {
   "cell_type": "code",
   "execution_count": 9,
   "id": "278e1d05",
   "metadata": {},
   "outputs": [],
   "source": [
    "from sklearn.preprocessing import RobustScaler"
   ]
  },
  {
   "cell_type": "code",
   "execution_count": 10,
   "id": "bfc9f83c",
   "metadata": {},
   "outputs": [],
   "source": [
    "col_genergy = [col for col in df.columns if col == 'log_genergy']\n",
    "RS_genergy = df[col_genergy].values\n",
    "RS_genergy\n",
    "\n",
    "scaler_genergy = RobustScaler()\n",
    "RS_genergy_scal = scaler_genergy.fit_transform(RS_genergy)\n",
    "df['genergy_S'] = RS_genergy_scal"
   ]
  },
  {
   "cell_type": "code",
   "execution_count": 11,
   "id": "30115380",
   "metadata": {
    "scrolled": false
   },
   "outputs": [
    {
     "data": {
      "image/png": "[encoded data removed]",
      "text/plain": [
       "<Figure size 360x360 with 1 Axes>"
      ]
     },
     "metadata": {},
     "output_type": "display_data"
    }
   ],
   "source": [
    "sns.displot(data=df, x=\"genergy_S\", kde=True, bins=12)\n",
    "plt.xlabel('genergy (RobustScaler)', fontsize=16)\n",
    "plt.ylabel(\"Count\")\n",
    "plt.show()"
   ]
  },
  {
   "cell_type": "markdown",
   "id": "938403b4",
   "metadata": {},
   "source": [
    "### GPuls"
   ]
  },
  {
   "cell_type": "code",
   "execution_count": 12,
   "id": "e7f61446",
   "metadata": {},
   "outputs": [],
   "source": [
    "col_gpuls = [col for col in df.columns if col == 'log_gpuls']\n",
    "RS_gpuls = df[col_gpuls].values\n",
    "RS_gpuls\n",
    "\n",
    "scaler_gpuls = RobustScaler()\n",
    "RS_gpuls_scal = scaler_gpuls.fit_transform(RS_gpuls)\n",
    "df['gpuls_S'] = RS_gpuls_scal"
   ]
  },
  {
   "cell_type": "code",
   "execution_count": 13,
   "id": "ddeb312a",
   "metadata": {
    "scrolled": false
   },
   "outputs": [
    {
     "data": {
      "image/png": "[encoded data removed]",
      "text/plain": [
       "<Figure size 360x360 with 1 Axes>"
      ]
     },
     "metadata": {},
     "output_type": "display_data"
    }
   ],
   "source": [
    "sns.displot(data=df, x=\"gpuls_S\", kde=True, bins=12)\n",
    "plt.xlabel('gpuls (RobustScaler)', fontsize=16)\n",
    "plt.ylabel(\"Count\")\n",
    "plt.show()"
   ]
  },
  {
   "cell_type": "markdown",
   "id": "2364d1a7",
   "metadata": {},
   "source": [
    "### Energy"
   ]
  },
  {
   "cell_type": "code",
   "execution_count": 14,
   "id": "c82dd595",
   "metadata": {},
   "outputs": [],
   "source": [
    "col_energy = [col for col in df.columns if col == 'log_energy']\n",
    "RS_energy = df[col_energy].values\n",
    "RS_energy\n",
    "\n",
    "scaler_energy = RobustScaler()\n",
    "RS_energy_scal = scaler_energy.fit_transform(RS_energy)\n",
    "df['energy_S'] = RS_energy_scal"
   ]
  },
  {
   "cell_type": "code",
   "execution_count": 15,
   "id": "f891edc8",
   "metadata": {
    "scrolled": false
   },
   "outputs": [
    {
     "data": {
      "image/png": "[encoded data removed]",
      "text/plain": [
       "<Figure size 360x360 with 1 Axes>"
      ]
     },
     "metadata": {},
     "output_type": "display_data"
    }
   ],
   "source": [
    "sns.displot(data=df, x=\"energy_S\", kde=True, bins=12)\n",
    "plt.xlabel('energy (RobustScaler)', fontsize=16)\n",
    "plt.ylabel(\"Count\")\n",
    "plt.show()"
   ]
  },
  {
   "cell_type": "markdown",
   "id": "0368428f",
   "metadata": {},
   "source": [
    "### GdEnergy"
   ]
  },
  {
   "cell_type": "code",
   "execution_count": 16,
   "id": "ba0b5773",
   "metadata": {},
   "outputs": [],
   "source": [
    "col_gdenergy = [col for col in df.columns if col == 'log_gdenergy']\n",
    "RS_gdenergy = df[col_gdenergy].values\n",
    "RS_gdenergy\n",
    "\n",
    "scaler_gdenergy = RobustScaler()\n",
    "RS_gdenergy_scal = scaler_gdenergy.fit_transform(RS_gdenergy)\n",
    "df['gdenergy_S'] = RS_gdenergy_scal"
   ]
  },
  {
   "cell_type": "code",
   "execution_count": 17,
   "id": "2c7ba5b9",
   "metadata": {
    "scrolled": true
   },
   "outputs": [
    {
     "data": {
      "image/png": "[encoded data removed]",
      "text/plain": [
       "<Figure size 360x360 with 1 Axes>"
      ]
     },
     "metadata": {},
     "output_type": "display_data"
    }
   ],
   "source": [
    "sns.displot(data=df, x=\"gdenergy_S\", kde=True, bins=12)\n",
    "plt.xlabel('gdenergy (RobustScaler)', fontsize=16)\n",
    "plt.ylabel(\"Count\")\n",
    "plt.show()"
   ]
  },
  {
   "cell_type": "markdown",
   "id": "15444209",
   "metadata": {},
   "source": [
    "### GdPuls"
   ]
  },
  {
   "cell_type": "code",
   "execution_count": 18,
   "id": "c2b6707c",
   "metadata": {},
   "outputs": [],
   "source": [
    "col_gdpuls = [col for col in df.columns if col == 'log_gdpuls']\n",
    "RS_gdpuls = df[col_gdpuls].values\n",
    "RS_gdpuls\n",
    "\n",
    "scaler_gdpuls = RobustScaler()\n",
    "RS_gdpuls_scal = scaler_gdpuls.fit_transform(RS_gdpuls)\n",
    "df['gdpuls_S'] = RS_gdpuls_scal"
   ]
  },
  {
   "cell_type": "code",
   "execution_count": 19,
   "id": "d7f2743d",
   "metadata": {
    "scrolled": false
   },
   "outputs": [
    {
     "data": {
      "image/png": "[encoded data removed]",
      "text/plain": [
       "<Figure size 360x360 with 1 Axes>"
      ]
     },
     "metadata": {},
     "output_type": "display_data"
    }
   ],
   "source": [
    "sns.displot(data=df, x=\"gdpuls_S\", kde=True, bins=12)\n",
    "plt.xlabel('gdpuls (RobustScaler)', fontsize=16)\n",
    "plt.ylabel(\"Count\")\n",
    "plt.show()"
   ]
  },
  {
   "cell_type": "code",
   "execution_count": 20,
   "id": "fcc8a089",
   "metadata": {
    "scrolled": true
   },
   "outputs": [
    {
     "data": {
      "text/html": [
       "<div>\n",
       "<style scoped>\n",
       "    .dataframe tbody tr th:only-of-type {\n",
       "        vertical-align: middle;\n",
       "    }\n",
       "\n",
       "    .dataframe tbody tr th {\n",
       "        vertical-align: top;\n",
       "    }\n",
       "\n",
       "    .dataframe thead th {\n",
       "        text-align: right;\n",
       "    }\n",
       "</style>\n",
       "<table border=\"1\" class=\"dataframe\">\n",
       "  <thead>\n",
       "    <tr style=\"text-align: right;\">\n",
       "      <th></th>\n",
       "      <th>seismic</th>\n",
       "      <th>seismoacoustic</th>\n",
       "      <th>shift</th>\n",
       "      <th>genergy</th>\n",
       "      <th>gpuls</th>\n",
       "      <th>gdenergy</th>\n",
       "      <th>gdpuls</th>\n",
       "      <th>hazard</th>\n",
       "      <th>nbumps</th>\n",
       "      <th>nbumps2</th>\n",
       "      <th>...</th>\n",
       "      <th>log_genergy</th>\n",
       "      <th>log_gpuls</th>\n",
       "      <th>log_gdenergy</th>\n",
       "      <th>log_gdpuls</th>\n",
       "      <th>log_energy</th>\n",
       "      <th>genergy_S</th>\n",
       "      <th>gpuls_S</th>\n",
       "      <th>energy_S</th>\n",
       "      <th>gdenergy_S</th>\n",
       "      <th>gdpuls_S</th>\n",
       "    </tr>\n",
       "  </thead>\n",
       "  <tbody>\n",
       "    <tr>\n",
       "      <th>count</th>\n",
       "      <td>2578.000000</td>\n",
       "      <td>2578.000000</td>\n",
       "      <td>2578.000000</td>\n",
       "      <td>2.578000e+03</td>\n",
       "      <td>2578.000000</td>\n",
       "      <td>2578.000000</td>\n",
       "      <td>2578.000000</td>\n",
       "      <td>2578.000000</td>\n",
       "      <td>2578.000000</td>\n",
       "      <td>2578.000000</td>\n",
       "      <td>...</td>\n",
       "      <td>2578.000000</td>\n",
       "      <td>2578.000000</td>\n",
       "      <td>2578.000000</td>\n",
       "      <td>2578.000000</td>\n",
       "      <td>2578.000000</td>\n",
       "      <td>2578.000000</td>\n",
       "      <td>2578.000000</td>\n",
       "      <td>2578.000000</td>\n",
       "      <td>2578.000000</td>\n",
       "      <td>2578.000000</td>\n",
       "    </tr>\n",
       "    <tr>\n",
       "      <th>mean</th>\n",
       "      <td>0.349884</td>\n",
       "      <td>0.407292</td>\n",
       "      <td>0.644686</td>\n",
       "      <td>9.034118e+04</td>\n",
       "      <td>539.366563</td>\n",
       "      <td>12.392940</td>\n",
       "      <td>4.521334</td>\n",
       "      <td>0.105508</td>\n",
       "      <td>0.861521</td>\n",
       "      <td>0.394492</td>\n",
       "      <td>...</td>\n",
       "      <td>10.223021</td>\n",
       "      <td>5.764784</td>\n",
       "      <td>4.469874</td>\n",
       "      <td>4.438448</td>\n",
       "      <td>3.489746</td>\n",
       "      <td>0.050829</td>\n",
       "      <td>-0.139011</td>\n",
       "      <td>0.442191</td>\n",
       "      <td>-0.050541</td>\n",
       "      <td>-0.098745</td>\n",
       "    </tr>\n",
       "    <tr>\n",
       "      <th>std</th>\n",
       "      <td>0.477026</td>\n",
       "      <td>0.527969</td>\n",
       "      <td>0.478701</td>\n",
       "      <td>2.294339e+05</td>\n",
       "      <td>562.945864</td>\n",
       "      <td>80.352799</td>\n",
       "      <td>63.211324</td>\n",
       "      <td>0.343068</td>\n",
       "      <td>1.365573</td>\n",
       "      <td>0.784454</td>\n",
       "      <td>...</td>\n",
       "      <td>1.391900</td>\n",
       "      <td>1.171785</td>\n",
       "      <td>0.708911</td>\n",
       "      <td>0.646341</td>\n",
       "      <td>4.118438</td>\n",
       "      <td>0.923771</td>\n",
       "      <td>0.935777</td>\n",
       "      <td>0.521853</td>\n",
       "      <td>0.874195</td>\n",
       "      <td>0.881399</td>\n",
       "    </tr>\n",
       "    <tr>\n",
       "      <th>min</th>\n",
       "      <td>0.000000</td>\n",
       "      <td>0.000000</td>\n",
       "      <td>0.000000</td>\n",
       "      <td>1.000000e+02</td>\n",
       "      <td>2.000000</td>\n",
       "      <td>-96.000000</td>\n",
       "      <td>-96.000000</td>\n",
       "      <td>0.000000</td>\n",
       "      <td>0.000000</td>\n",
       "      <td>0.000000</td>\n",
       "      <td>...</td>\n",
       "      <td>4.605170</td>\n",
       "      <td>0.693147</td>\n",
       "      <td>0.000000</td>\n",
       "      <td>0.000000</td>\n",
       "      <td>0.000000</td>\n",
       "      <td>-3.677606</td>\n",
       "      <td>-4.189175</td>\n",
       "      <td>0.000000</td>\n",
       "      <td>-5.562574</td>\n",
       "      <td>-6.151341</td>\n",
       "    </tr>\n",
       "    <tr>\n",
       "      <th>25%</th>\n",
       "      <td>0.000000</td>\n",
       "      <td>0.000000</td>\n",
       "      <td>0.000000</td>\n",
       "      <td>1.169250e+04</td>\n",
       "      <td>191.250000</td>\n",
       "      <td>-37.000000</td>\n",
       "      <td>-36.000000</td>\n",
       "      <td>0.000000</td>\n",
       "      <td>0.000000</td>\n",
       "      <td>0.000000</td>\n",
       "      <td>...</td>\n",
       "      <td>9.366703</td>\n",
       "      <td>5.253579</td>\n",
       "      <td>4.094345</td>\n",
       "      <td>4.110874</td>\n",
       "      <td>0.000000</td>\n",
       "      <td>-0.517489</td>\n",
       "      <td>-0.547254</td>\n",
       "      <td>0.000000</td>\n",
       "      <td>-0.513626</td>\n",
       "      <td>-0.545450</td>\n",
       "    </tr>\n",
       "    <tr>\n",
       "      <th>50%</th>\n",
       "      <td>0.000000</td>\n",
       "      <td>0.000000</td>\n",
       "      <td>1.000000</td>\n",
       "      <td>2.550000e+04</td>\n",
       "      <td>379.500000</td>\n",
       "      <td>-6.000000</td>\n",
       "      <td>-6.000000</td>\n",
       "      <td>0.000000</td>\n",
       "      <td>0.000000</td>\n",
       "      <td>0.000000</td>\n",
       "      <td>...</td>\n",
       "      <td>10.146434</td>\n",
       "      <td>5.938854</td>\n",
       "      <td>4.510860</td>\n",
       "      <td>4.510860</td>\n",
       "      <td>0.000000</td>\n",
       "      <td>0.000000</td>\n",
       "      <td>0.000000</td>\n",
       "      <td>0.000000</td>\n",
       "      <td>0.000000</td>\n",
       "      <td>0.000000</td>\n",
       "    </tr>\n",
       "    <tr>\n",
       "      <th>75%</th>\n",
       "      <td>1.000000</td>\n",
       "      <td>1.000000</td>\n",
       "      <td>1.000000</td>\n",
       "      <td>5.275750e+04</td>\n",
       "      <td>669.000000</td>\n",
       "      <td>38.000000</td>\n",
       "      <td>30.000000</td>\n",
       "      <td>0.000000</td>\n",
       "      <td>1.000000</td>\n",
       "      <td>1.000000</td>\n",
       "      <td>...</td>\n",
       "      <td>10.873461</td>\n",
       "      <td>6.505784</td>\n",
       "      <td>4.905275</td>\n",
       "      <td>4.844187</td>\n",
       "      <td>7.891946</td>\n",
       "      <td>0.482511</td>\n",
       "      <td>0.452746</td>\n",
       "      <td>1.000000</td>\n",
       "      <td>0.486374</td>\n",
       "      <td>0.454550</td>\n",
       "    </tr>\n",
       "    <tr>\n",
       "      <th>max</th>\n",
       "      <td>1.000000</td>\n",
       "      <td>2.000000</td>\n",
       "      <td>1.000000</td>\n",
       "      <td>2.595650e+06</td>\n",
       "      <td>4518.000000</td>\n",
       "      <td>1245.000000</td>\n",
       "      <td>838.000000</td>\n",
       "      <td>2.000000</td>\n",
       "      <td>9.000000</td>\n",
       "      <td>8.000000</td>\n",
       "      <td>...</td>\n",
       "      <td>14.769348</td>\n",
       "      <td>8.415825</td>\n",
       "      <td>7.201916</td>\n",
       "      <td>6.840547</td>\n",
       "      <td>12.904210</td>\n",
       "      <td>3.068119</td>\n",
       "      <td>1.978087</td>\n",
       "      <td>1.635111</td>\n",
       "      <td>3.318481</td>\n",
       "      <td>3.176933</td>\n",
       "    </tr>\n",
       "  </tbody>\n",
       "</table>\n",
       "<p>8 rows × 25 columns</p>\n",
       "</div>"
      ],
      "text/plain": [
       "           seismic  seismoacoustic        shift       genergy        gpuls  \\\n",
       "count  2578.000000     2578.000000  2578.000000  2.578000e+03  2578.000000   \n",
       "mean      0.349884        0.407292     0.644686  9.034118e+04   539.366563   \n",
       "std       0.477026        0.527969     0.478701  2.294339e+05   562.945864   \n",
       "min       0.000000        0.000000     0.000000  1.000000e+02     2.000000   \n",
       "25%       0.000000        0.000000     0.000000  1.169250e+04   191.250000   \n",
       "50%       0.000000        0.000000     1.000000  2.550000e+04   379.500000   \n",
       "75%       1.000000        1.000000     1.000000  5.275750e+04   669.000000   \n",
       "max       1.000000        2.000000     1.000000  2.595650e+06  4518.000000   \n",
       "\n",
       "          gdenergy       gdpuls       hazard       nbumps      nbumps2  ...  \\\n",
       "count  2578.000000  2578.000000  2578.000000  2578.000000  2578.000000  ...   \n",
       "mean     12.392940     4.521334     0.105508     0.861521     0.394492  ...   \n",
       "std      80.352799    63.211324     0.343068     1.365573     0.784454  ...   \n",
       "min     -96.000000   -96.000000     0.000000     0.000000     0.000000  ...   \n",
       "25%     -37.000000   -36.000000     0.000000     0.000000     0.000000  ...   \n",
       "50%      -6.000000    -6.000000     0.000000     0.000000     0.000000  ...   \n",
       "75%      38.000000    30.000000     0.000000     1.000000     1.000000  ...   \n",
       "max    1245.000000   838.000000     2.000000     9.000000     8.000000  ...   \n",
       "\n",
       "       log_genergy    log_gpuls  log_gdenergy   log_gdpuls   log_energy  \\\n",
       "count  2578.000000  2578.000000   2578.000000  2578.000000  2578.000000   \n",
       "mean     10.223021     5.764784      4.469874     4.438448     3.489746   \n",
       "std       1.391900     1.171785      0.708911     0.646341     4.118438   \n",
       "min       4.605170     0.693147      0.000000     0.000000     0.000000   \n",
       "25%       9.366703     5.253579      4.094345     4.110874     0.000000   \n",
       "50%      10.146434     5.938854      4.510860     4.510860     0.000000   \n",
       "75%      10.873461     6.505784      4.905275     4.844187     7.891946   \n",
       "max      14.769348     8.415825      7.201916     6.840547    12.904210   \n",
       "\n",
       "         genergy_S      gpuls_S     energy_S   gdenergy_S     gdpuls_S  \n",
       "count  2578.000000  2578.000000  2578.000000  2578.000000  2578.000000  \n",
       "mean      0.050829    -0.139011     0.442191    -0.050541    -0.098745  \n",
       "std       0.923771     0.935777     0.521853     0.874195     0.881399  \n",
       "min      -3.677606    -4.189175     0.000000    -5.562574    -6.151341  \n",
       "25%      -0.517489    -0.547254     0.000000    -0.513626    -0.545450  \n",
       "50%       0.000000     0.000000     0.000000     0.000000     0.000000  \n",
       "75%       0.482511     0.452746     1.000000     0.486374     0.454550  \n",
       "max       3.068119     1.978087     1.635111     3.318481     3.176933  \n",
       "\n",
       "[8 rows x 25 columns]"
      ]
     },
     "execution_count": 20,
     "metadata": {},
     "output_type": "execute_result"
    }
   ],
   "source": [
    "df.describe()"
   ]
  },
  {
   "cell_type": "code",
   "execution_count": 22,
   "id": "d2076182",
   "metadata": {},
   "outputs": [],
   "source": [
    "df.to_csv(\"seismic_clust.csv\", index=False)"
   ]
  }
 ],
 "metadata": {
  "kernelspec": {
   "display_name": "Python 3 (ipykernel)",
   "language": "python",
   "name": "python3"
  },
  "language_info": {
   "codemirror_mode": {
    "name": "ipython",
    "version": 3
   },
   "file_extension": ".py",
   "mimetype": "text/x-python",
   "name": "python",
   "nbconvert_exporter": "python",
   "pygments_lexer": "ipython3",
   "version": "3.9.12"
  }
 },
 "nbformat": 4,
 "nbformat_minor": 5
}
